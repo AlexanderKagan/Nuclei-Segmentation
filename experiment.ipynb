{
 "cells": [
  {
   "cell_type": "code",
   "execution_count": 2,
   "metadata": {},
   "outputs": [],
   "source": [
    "from train import train\n",
    "from markup import markup\n",
    "from apply import integrate_image_signal_over_channels\n",
    "import warnings\n",
    "warnings.filterwarnings(\"ignore\")"
   ]
  },
  {
   "cell_type": "markdown",
   "metadata": {},
   "source": [
    "## Train part (if necessary)"
   ]
  },
  {
   "cell_type": "code",
   "execution_count": 3,
   "metadata": {},
   "outputs": [
    {
     "name": "stderr",
     "output_type": "stream",
     "text": [
      "Lossy conversion from int64 to uint8. Range [0, 1]. Convert image to uint8 prior to saving to suppress this warning.\n",
      "Lossy conversion from int64 to uint8. Range [0, 1]. Convert image to uint8 prior to saving to suppress this warning.\n",
      "Lossy conversion from int64 to uint8. Range [0, 1]. Convert image to uint8 prior to saving to suppress this warning.\n",
      "Lossy conversion from int64 to uint8. Range [0, 1]. Convert image to uint8 prior to saving to suppress this warning.\n"
     ]
    },
    {
     "name": "stdout",
     "output_type": "stream",
     "text": [
      "Epoch number: 0\n",
      "validation iou is 0.1973319005219527\n",
      "Training epoch loss: 0.7590512037277222\n",
      "Epoch 1 of 10 took 2.536s\n",
      "Epoch number: 1\n",
      "validation iou is 0.26608075378373686\n",
      "Training epoch loss: 0.6880590915679932\n",
      "Epoch 2 of 10 took 2.285s\n",
      "Epoch number: 2\n",
      "validation iou is 0.32235346268114046\n",
      "Training epoch loss: 0.648160994052887\n",
      "Epoch 3 of 10 took 2.232s\n",
      "Epoch number: 3\n",
      "validation iou is 0.3403956434062933\n",
      "Training epoch loss: 0.5630679726600647\n",
      "Epoch 4 of 10 took 2.135s\n",
      "Epoch number: 4\n",
      "validation iou is 0.3423439025158223\n",
      "Training epoch loss: 0.6876410245895386\n",
      "Epoch 5 of 10 took 2.205s\n",
      "Epoch number: 5\n",
      "validation iou is 0.3651903848096152\n",
      "Training epoch loss: 0.54068922996521\n",
      "Epoch 6 of 10 took 2.255s\n",
      "Epoch number: 6\n",
      "validation iou is 0.3828653047394832\n",
      "Training epoch loss: 0.7104802131652832\n",
      "Epoch 7 of 10 took 2.133s\n",
      "Epoch number: 7\n",
      "validation iou is 0.4285671026112937\n",
      "Training epoch loss: 0.4296751022338867\n",
      "Epoch 8 of 10 took 2.179s\n",
      "Epoch number: 8\n",
      "validation iou is 0.44865027793549656\n",
      "Training epoch loss: 0.5135581493377686\n",
      "Epoch 9 of 10 took 2.276s\n",
      "Epoch number: 9\n",
      "validation iou is 0.46361370535940705\n",
      "Training epoch loss: 0.4938964247703552\n",
      "Epoch 10 of 10 took 2.320s\n"
     ]
    }
   ],
   "source": [
    "unet = train(coco_json_path='./jsons/coco_all_labels.json', \n",
    "             train_images_path='./train_images/', target_channel_names='dapi,lipid', train_directory='.',\n",
    "          validate=True, device='cpu', num_epochs=10, model_name='unet', init_features=10)"
   ]
  },
  {
   "cell_type": "markdown",
   "metadata": {},
   "source": [
    "## Load model part "
   ]
  },
  {
   "cell_type": "code",
   "execution_count": 3,
   "metadata": {},
   "outputs": [
    {
     "data": {
      "text/plain": [
       "<All keys matched successfully>"
      ]
     },
     "execution_count": 3,
     "metadata": {},
     "output_type": "execute_result"
    }
   ],
   "source": [
    "import torch\n",
    "from Unet import UNet\n",
    "\n",
    "unet = UNet(in_channels=2, init_features=10)\n",
    "unet.load_state_dict(torch.load('./models/unet_60_epochs_lipids_dapi'))"
   ]
  },
  {
   "cell_type": "markdown",
   "metadata": {},
   "source": [
    "## Markup of validation images\n"
   ]
  },
  {
   "cell_type": "code",
   "execution_count": 4,
   "metadata": {},
   "outputs": [],
   "source": [
    "markup(model=unet, markup_images_path='val_images/', \n",
    "       target_channel_names='dapi,lipid', \n",
    "       save_path='./markuped_vals/', if_binary_mask=True)"
   ]
  },
  {
   "cell_type": "markdown",
   "metadata": {},
   "source": [
    "## Calculate integrated signal from the cells' nucleis in each chanel"
   ]
  },
  {
   "cell_type": "code",
   "execution_count": 5,
   "metadata": {},
   "outputs": [],
   "source": [
    "integrated_signal_dict = integrate_image_signal_over_channels(masks_directory_path='markuped_vals/',\n",
    "                                                              images_path='val_images/',\n",
    "                                                              target_channel_names='dapi,lipid',\n",
    "                                                              interest_mask='dapi_0_0.tif', save=False)\n",
    "                                                              "
   ]
  },
  {
   "cell_type": "code",
   "execution_count": 6,
   "metadata": {},
   "outputs": [
    {
     "data": {
      "text/plain": [
       "{'dapi': {'dapi_0_0.tif': 1107947}, 'lipid': {'lipid_0_0.tif': 582395}}"
      ]
     },
     "execution_count": 6,
     "metadata": {},
     "output_type": "execute_result"
    }
   ],
   "source": [
    "integrated_signal_dict"
   ]
  },
  {
   "cell_type": "code",
   "execution_count": 7,
   "metadata": {},
   "outputs": [
    {
     "name": "stdout",
     "output_type": "stream",
     "text": [
      "Integrated signal=1107947.0\n"
     ]
    }
   ],
   "source": [
    "#Sanity Check\n",
    "import skimage \n",
    "\n",
    "mask = skimage.io.imread('markuped_vals/dapi_0_0.tif')\n",
    "image = skimage.io.imread('val_images/dapi/dapi_0_0.tif')\n",
    "integrated_signal = (mask * image).sum()\n",
    "print(f'Integrated signal={integrated_signal}')"
   ]
  },
  {
   "cell_type": "code",
   "execution_count": null,
   "metadata": {},
   "outputs": [],
   "source": []
  }
 ],
 "metadata": {
  "kernelspec": {
   "display_name": "Python 3",
   "language": "python",
   "name": "python3"
  },
  "language_info": {
   "codemirror_mode": {
    "name": "ipython",
    "version": 3
   },
   "file_extension": ".py",
   "mimetype": "text/x-python",
   "name": "python",
   "nbconvert_exporter": "python",
   "pygments_lexer": "ipython3",
   "version": "3.7.3"
  }
 },
 "nbformat": 4,
 "nbformat_minor": 1
}
